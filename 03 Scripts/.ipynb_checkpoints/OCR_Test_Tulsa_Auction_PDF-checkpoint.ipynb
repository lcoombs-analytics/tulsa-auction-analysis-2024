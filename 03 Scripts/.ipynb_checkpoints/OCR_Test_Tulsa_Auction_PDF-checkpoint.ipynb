{
 "cells": [
  {
   "cell_type": "code",
   "execution_count": 3,
   "id": "9c190ee1-aa51-41a8-a936-c0cba26cfc5f",
   "metadata": {},
   "outputs": [
    {
     "data": {
      "text/plain": [
       "CompletedProcess(args=['pdftoppm', '-v'], returncode=0, stdout='', stderr='pdftoppm version 24.08.0\\nCopyright 2005-2024 The Poppler Developers - http://poppler.freedesktop.org\\nCopyright 1996-2011, 2022 Glyph & Cog, LLC\\n')"
      ]
     },
     "execution_count": 3,
     "metadata": {},
     "output_type": "execute_result"
    }
   ],
   "source": [
    "import subprocess\n",
    "subprocess.run([\"pdftoppm\", \"-v\"], capture_output=True, text=True)"
   ]
  },
  {
   "cell_type": "markdown",
   "id": "942c9ff3-0468-4beb-a010-c964776a124e",
   "metadata": {},
   "source": [
    "***Import Libraries - for OCR Testing***"
   ]
  },
  {
   "cell_type": "code",
   "execution_count": 5,
   "id": "fff37999-eea5-4836-9055-be4f2a656c1b",
   "metadata": {},
   "outputs": [],
   "source": [
    "import pytesseract\n",
    "from pdf2image import convert_from_path\n",
    "import os"
   ]
  },
  {
   "cell_type": "code",
   "execution_count": 6,
   "id": "136df15a-26e5-42dc-82e1-723f9124dcd3",
   "metadata": {},
   "outputs": [],
   "source": [
    "# Set path to Tesseract-OCR (update if installed elsewhere)\n",
    "pytesseract.pytesseract.tesseract_cmd = r\"C:\\Program Files\\Tesseract-OCR\\tesseract.exe\""
   ]
  },
  {
   "cell_type": "code",
   "execution_count": 7,
   "id": "e6bade7c-2267-425d-9088-9f3bb070b00f",
   "metadata": {},
   "outputs": [],
   "source": [
    "# Path to your scanned PDF file (update this path)\n",
    "pdf_path = r\"C:\\Users\\lisac\\OneDrive\\NICOLE\\Tulsa_County_Book_of_Sale_2024.pdf\"  "
   ]
  },
  {
   "cell_type": "code",
   "execution_count": 32,
   "id": "e57640ee-8b49-46fc-823e-2314b02f8f0e",
   "metadata": {},
   "outputs": [],
   "source": [
    "# Convert the first page to an image\n",
    "pages = convert_from_path(pdf_path, dpi=300, first_page=4, last_page=8)"
   ]
  },
  {
   "cell_type": "code",
   "execution_count": 33,
   "id": "7755bd01-398c-492b-8b95-4c26403ce421",
   "metadata": {},
   "outputs": [],
   "source": [
    "# Save the first page image for verification\n",
    "sample_image_path = \"sample_page.png\"\n",
    "pages[0].save(sample_image_path, \"PNG\")"
   ]
  },
  {
   "cell_type": "code",
   "execution_count": 34,
   "id": "c4e62bb7-352a-40f9-9493-08b5685cdd4b",
   "metadata": {},
   "outputs": [
    {
     "name": "stdout",
     "output_type": "stream",
     "text": [
      "Extracted Text from First Page:\n",
      "\n",
      "TM2336-RO1\n",
      "RUN DATE:\n",
      "\n",
      "PARCEL NUMBER\n",
      "\n",
      "DATE SOLD\n",
      "\n",
      "RESALE CERTIFICATE NUMBER:\n",
      "\n",
      "LEGAL DESCRIPTION\n",
      "\n",
      "SUBDIVISION\n",
      "\n",
      "TAXING UNIT: TIA\n",
      "ADDITIONAL LEGAL\n",
      "\n",
      "PARCEL NUMBER\n",
      "\n",
      "DATE SOLD\n",
      "\n",
      "RESALE CERTIFICATE NUMBER:\n",
      "\n",
      "LEGAL DESCRIPTION\n",
      "\n",
      "SUBDIVISION\n",
      "\n",
      "TAXING UNIT: TIA\n",
      "ADDITIONAL LEGAL\n",
      "\n",
      "06/26/24 10:17:59\n",
      "\n",
      "TULSA COUNTY TREASURER\n",
      "RETURN OF 2024 JUNE RESALE AUCTION HELD JUNE 10,\n",
      "\n",
      "2024 THRU JUNE 12,\n",
      "\n",
      "RESALE JOURNAL OF PROCEEDINGS\n",
      "\n",
      "THIS PROGRAM WAS RUN FOR NO UPDATE-FOR REPORT ONLY\n",
      "\n",
      "REPORT IS IN ASCENDING PARCEL NUMBER ORDER\n",
      "\n",
      "00500-92-02-34510\n",
      "\n",
      "06/10/24\n",
      "2100027\n",
      "\n",
      "ALL THAT PRT LT 1 LYING N OF FIRST ST ADJ TO\n",
      "FRISCO RR BLK 95\n",
      "\n",
      "TULSA-ORIGINAL TOWN\n",
      "\n",
      "AN ADDITION TO THE CITY OF TULSA, TULSA COUNTY,\n",
      "STATE OF OKLAHOMA, ACCORDING TO THE LAST\n",
      "GOVERNMENT SURVEY THEREOF\n",
      "\n",
      "01725-03-29-00310\n",
      "\n",
      "06/10/24\n",
      "2100145\n",
      "\n",
      "LT 10 BLK 2\n",
      "\n",
      "ANELEN HGTS ADDN\n",
      "\n",
      "AN ADDITION TO THE CITY OF TULSA, TULSA COUNTY,\n",
      "STATE OF OKLAHOMA, ACCORDING TO THE LAST\n",
      "GOVERNMENT SURVEY THEREOF\n",
      "\n",
      "BIDDER NUMBER:\n",
      "\n",
      "DEED NAME:\n",
      "\n",
      "2024\n",
      "\n",
      "311\n",
      "\n",
      "PAUL WADE WILLIAMS\n",
      "\n",
      "TRUST DEPOSIT\n",
      "BID AMOUNT\n",
      "\n",
      "TRUST DEPOSIT\n",
      "NET\n",
      "\n",
      "NOTATION 1:\n",
      "NOTATION 2:\n",
      "\n",
      "BIDDER NUMBER:\n",
      "\n",
      "DEED NAME:\n",
      "\n",
      "[ NUMBER:\n",
      "\n",
      "[ TOTAL\n",
      "\n",
      "SURPLUS AMOUNT\n",
      "\n",
      "ISMENE RIVERA\n",
      "\n",
      "TRUST DEPOSIT\n",
      "BID AMOUNT\n",
      "\n",
      "TRUST DEPOSIT\n",
      "NET\n",
      "\n",
      "NOTATION 1:\n",
      "NOTATION 2:\n",
      "\n",
      "[ NUMBER:\n",
      "\n",
      "[ TOTAL\n",
      "\n",
      "SURPLUS AMOUNT\n",
      "\n",
      "240117\n",
      "\n",
      "240118\n",
      "\n",
      "5,500.00\n",
      "5,796.75\n",
      "5,196.82\n",
      "\n",
      "8,250.00\n",
      "8,546.75\n",
      "3,802.31\n",
      "\n",
      "PAGE\n",
      "\n"
     ]
    }
   ],
   "source": [
    "# Extract text from the image\n",
    "extracted_text = pytesseract.image_to_string(pages[0])\n",
    "print(\"Extracted Text from First Page:\\n\")\n",
    "print(extracted_text)"
   ]
  },
  {
   "cell_type": "code",
   "execution_count": null,
   "id": "b403435d-e93b-431b-9e42-17c857b3c131",
   "metadata": {},
   "outputs": [],
   "source": []
  },
  {
   "cell_type": "code",
   "execution_count": null,
   "id": "0fa5a8d9-7b7f-400d-81bd-3a716c891739",
   "metadata": {},
   "outputs": [],
   "source": []
  }
 ],
 "metadata": {
  "kernelspec": {
   "display_name": "Python 3 (ipykernel)",
   "language": "python",
   "name": "python3"
  },
  "language_info": {
   "codemirror_mode": {
    "name": "ipython",
    "version": 3
   },
   "file_extension": ".py",
   "mimetype": "text/x-python",
   "name": "python",
   "nbconvert_exporter": "python",
   "pygments_lexer": "ipython3",
   "version": "3.12.4"
  }
 },
 "nbformat": 4,
 "nbformat_minor": 5
}
