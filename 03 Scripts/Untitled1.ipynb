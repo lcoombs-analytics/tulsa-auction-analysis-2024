{
 "cells": [
  {
   "cell_type": "code",
   "execution_count": null,
   "id": "b6b122f9-0ff2-4ce6-861a-f3c8783e0433",
   "metadata": {},
   "outputs": [],
   "source": [
    "deed_name_pattern = r\"DEED NAME:\\s*([A-Z0-9\\s&.,'-]+?)(?=\\s*(TRUST DEPOSIT|RESALE CERTIFICATE|BID AMOUNT|NUMBER|NET|$))\"\n",
    "matches = re.findall(deed_name_pattern, processed_text)\n",
    "deed_names = [match[0].strip() for match in matches]"
   ]
  },
  {
   "cell_type": "code",
   "execution_count": null,
   "id": "ad53c2d3-66d1-4a6c-98e8-02c6ca6e1c12",
   "metadata": {},
   "outputs": [],
   "source": []
  },
  {
   "cell_type": "code",
   "execution_count": null,
   "id": "1ef7ff36-0c8a-4431-bda5-9dd27072cc33",
   "metadata": {},
   "outputs": [],
   "source": []
  },
  {
   "cell_type": "code",
   "execution_count": null,
   "id": "614cb575-4e79-4b27-a192-100f9b1f0071",
   "metadata": {},
   "outputs": [],
   "source": []
  },
  {
   "cell_type": "code",
   "execution_count": null,
   "id": "c2c61641-81c9-4456-af12-25eab81af86b",
   "metadata": {},
   "outputs": [],
   "source": []
  }
 ],
 "metadata": {
  "kernelspec": {
   "display_name": "Python 3 (ipykernel)",
   "language": "python",
   "name": "python3"
  },
  "language_info": {
   "codemirror_mode": {
    "name": "ipython",
    "version": 3
   },
   "file_extension": ".py",
   "mimetype": "text/x-python",
   "name": "python",
   "nbconvert_exporter": "python",
   "pygments_lexer": "ipython3",
   "version": "3.12.4"
  }
 },
 "nbformat": 4,
 "nbformat_minor": 5
}
