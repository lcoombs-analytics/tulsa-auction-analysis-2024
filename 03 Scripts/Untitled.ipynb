{
 "cells": [
  {
   "cell_type": "code",
   "execution_count": null,
   "id": "d5b87f98-919a-487b-98ad-cb27f9bba139",
   "metadata": {},
   "outputs": [],
   "source": []
  },
  {
   "cell_type": "code",
   "execution_count": null,
   "id": "f2de447a-19f3-4d50-8c7b-713410100fda",
   "metadata": {},
   "outputs": [],
   "source": [
    "import pdfplumber\n",
    "import pandas as pd"
   ]
  },
  {
   "cell_type": "code",
   "execution_count": null,
   "id": "4c1f8008-4016-45a5-a964-bb241acb2433",
   "metadata": {},
   "outputs": [],
   "source": [
    "data = []\n",
    "with pdfplumber.open(\"Tulsa_County_Book_of_Sale_2024.pdf\") as pdf:\n",
    "    for page in pdf.pages:\n",
    "        text = page.extract_text()\n",
    "        # Process text to extract relevant fields into structured data (this will require some regex parsing)\n",
    "\n",
    "df = pd.BOS_Tulsa(data, columns=[\"Parcel Number\", \"Bidder Number\", \"Date Sold\", \"Deed Name\", \n",
    "                                 \"Resale Certificate Number\", \"Legal Description\", \n",
    "                                 \"Subdivision\", \"Trust Deposit Number\", \"Bid Amount\", \n",
    "                                 \"Trust Deposit Total\", \"Net Surplus Amount\"])\n",
    "\n",
    "df.to_excel(\"2024_BOS_Tulsa_03312025.xlsx\", index=False)"
   ]
  },
  {
   "cell_type": "code",
   "execution_count": null,
   "id": "078423fb-d916-4dc5-a652-f439be961a22",
   "metadata": {},
   "outputs": [],
   "source": []
  }
 ],
 "metadata": {
  "kernelspec": {
   "display_name": "Python 3 (ipykernel)",
   "language": "python",
   "name": "python3"
  },
  "language_info": {
   "codemirror_mode": {
    "name": "ipython",
    "version": 3
   },
   "file_extension": ".py",
   "mimetype": "text/x-python",
   "name": "python",
   "nbconvert_exporter": "python",
   "pygments_lexer": "ipython3",
   "version": "3.12.4"
  }
 },
 "nbformat": 4,
 "nbformat_minor": 5
}
